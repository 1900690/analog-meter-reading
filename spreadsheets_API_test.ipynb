{
  "nbformat": 4,
  "nbformat_minor": 0,
  "metadata": {
    "colab": {
      "provenance": [],
      "include_colab_link": true
    },
    "kernelspec": {
      "name": "python3",
      "display_name": "Python 3"
    },
    "language_info": {
      "name": "python"
    }
  },
  "cells": [
    {
      "cell_type": "markdown",
      "metadata": {
        "id": "view-in-github",
        "colab_type": "text"
      },
      "source": [
        "<a href=\"https://colab.research.google.com/github/1900690/analog-meter-reading/blob/main/spreadsheets_API_test.ipynb\" target=\"_parent\"><img src=\"https://colab.research.google.com/assets/colab-badge.svg\" alt=\"Open In Colab\"/></a>"
      ]
    },
    {
      "cell_type": "markdown",
      "source": [
        "参考\n",
        "\n",
        "[Raspberry Piで温度と湿度を定期的に取得してスプレッドシートに記録する](https://www.nakakamado.com/2021/02/raspberrypi-spreadsheet.html?m=1)\n",
        "\n",
        "[Pythonでスプレッドシートに読み書きする初期設定まとめ](https://tanuhack.com/operate-spreadsheet/)"
      ],
      "metadata": {
        "id": "3rz55VwFvrl6"
      }
    }
  ]
}